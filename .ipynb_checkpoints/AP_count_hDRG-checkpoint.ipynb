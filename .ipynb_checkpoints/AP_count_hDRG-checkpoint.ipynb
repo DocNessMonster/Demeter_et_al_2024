{
 "cells": [
  {
   "cell_type": "markdown",
   "id": "9d8e1e9f-1aa6-4a1d-9448-de45e1efeb4d",
   "metadata": {},
   "source": [
    "Import the packages needed"
   ]
  },
  {
   "cell_type": "code",
   "execution_count": null,
   "id": "67b2714f-b168-4b6a-9949-0b712797cf50",
   "metadata": {},
   "outputs": [],
   "source": [
    "# Import the packages \n",
    "from ipfx.feature_extractor import (SpikeFeatureExtractor,\n",
    "                                    SpikeTrainFeatureExtractor)\n",
    "import pyabf\n",
    "import numpy as np\n",
    "import pandas as pd\n",
    "import matplotlib.pyplot as plt\n",
    "import os \n",
    "import matplotlib.pyplot as plt\n",
    "import matplotlib.animation as animation\n",
    "from IPython.display import HTML"
   ]
  },
  {
   "cell_type": "markdown",
   "id": "b04737b2-9950-48ff-ba01-d6b85fbaf2ab",
   "metadata": {},
   "source": [
    "Check your current directory."
   ]
  },
  {
   "cell_type": "code",
   "execution_count": null,
   "id": "f2dd4d05-ce1f-4c0a-904f-4ee508aa92a9",
   "metadata": {},
   "outputs": [],
   "source": [
    "current_directory = os.getcwd()\n",
    "print(\"Current Directory:\", current_directory)"
   ]
  },
  {
   "cell_type": "markdown",
   "id": "f3299e84-6d6a-485f-aa68-e4dd53fec748",
   "metadata": {},
   "source": [
    "Make sure you folder/directory is in the current directory. Then run the program which calculates the number APs in each sweep. \n",
    "\n",
    "The parameters in this program was designed for human DRG. Though it does a good job ~90% of the time, it may overestimate the number APs is some files where the membrane volatge stays above 10mV during the 500ms current input. Check your output file for high AP numbers at the end of each column in the dataframe and use another method to count APs for those ABF files. Setting parameters that work for all files has not been possible because human DRG neurons have a wide variety AP wavefrom properties, hence the issues with perfect AP counting on every file. Changing the parameters dv_cutoff, thresh_fract, max_interval, and min_peak may help though I have played around with them and this is the best I could come up with to do well on the majority of files in one go of the files. "
   ]
  },
  {
   "cell_type": "code",
   "execution_count": null,
   "id": "11d52581-9be0-4aeb-8a44-8df75f7f8bdb",
   "metadata": {},
   "outputs": [],
   "source": [
    "# Directory containing ABF files\n",
    "directory = \"HS21\"\n",
    "\n",
    "# List to store DataFrame for each file\n",
    "avg_rate_dataframes = []\n",
    "\n",
    "# Iterate over each file in the directory\n",
    "for file in os.listdir(directory):\n",
    "    if file.endswith(\".abf\"):\n",
    "        abf = pyabf.ABF(os.path.join(directory, file))\n",
    "        \n",
    "        # Set the dataframe for the table\n",
    "        table = pd.DataFrame()\n",
    "\n",
    "        # Loop function to analyze each voltage and current trace of the file\n",
    "        for sweep in abf.sweepList:\n",
    "            abf.setSweep(sweep)\n",
    "            time = abf.sweepX\n",
    "            voltage = abf.sweepY\n",
    "            current = abf.sweepC\n",
    "\n",
    "            currents = [] # Current value between t1 and t2 (ms) for each step\n",
    "            t1 = int(400*abf.dataPointsPerMs)\n",
    "            t2 = int(500*abf.dataPointsPerMs)\n",
    "            current_mean = np.average(abf.sweepC[t1:t2])\n",
    "\n",
    "            start, end = 0.025, 0.525\n",
    "            sfx = SpikeFeatureExtractor(start, end, filter=None, dv_cutoff=2.0, thresh_frac=0.5, max_interval=0.02, min_peak=10)\n",
    "            sfx_results = sfx.process(time, voltage, current)\n",
    "            stfx = SpikeTrainFeatureExtractor(start=start, end=end)\n",
    "            stfx_results = stfx.process(time, voltage, current, sfx_results)\n",
    "\n",
    "            # Create a table with the stfx results\n",
    "            length = len(table)\n",
    "            table.loc[length, 'current_step'] = current_mean\n",
    "            table.loc[length, 'avg_rate'] = stfx_results[\"avg_rate\"] * (end - start)\n",
    "\n",
    "        # Append DataFrame for current file to the list\n",
    "        avg_rate_dataframes.append(table[['avg_rate']])\n",
    "\n",
    "# Concatenate DataFrames for all files into a single DataFrame\n",
    "all_avg_rate_data = pd.concat(avg_rate_dataframes, axis=1)\n",
    "\n",
    "# Rename columns with ABF filenames\n",
    "all_avg_rate_data.columns = [file for file in os.listdir(directory) if file.endswith(\".abf\")]\n",
    "\n",
    "# Show the DataFrame\n",
    "print(all_avg_rate_data)"
   ]
  },
  {
   "cell_type": "markdown",
   "id": "a4327d7b-b9b2-4dff-bd2f-a0ca5f0cc4fb",
   "metadata": {},
   "source": [
    "Check AP count plots for each file. This can help ID traces that over counted the number of APs"
   ]
  },
  {
   "cell_type": "code",
   "execution_count": null,
   "id": "d769fa0a-d3e6-4d21-a599-4bdb55905396",
   "metadata": {},
   "outputs": [],
   "source": [
    "# Plot current vs. average rate for each file\n",
    "for column in all_avg_rate_data.columns:\n",
    "    plt.figure(figsize=(8, 6))\n",
    "    # Generate current step values starting from -100pA increasing by 10 for each step\n",
    "    current_steps = np.arange(-100, -100 + 10 * len(all_avg_rate_data), 10)\n",
    "    plt.scatter(current_steps, all_avg_rate_data[column], label=column)\n",
    "    plt.xlabel('Current Step (pA)')\n",
    "    plt.ylabel('Number APs')\n",
    "    plt.title(f'Current vs. Action Potentials - {column}')\n",
    "    plt.grid(True)\n",
    "    plt.show()"
   ]
  },
  {
   "cell_type": "markdown",
   "id": "6a563058-b3e3-490f-8bdf-7abecdc204d8",
   "metadata": {},
   "source": [
    "If there are files that are not counting APs faithfully you can each file indivdually. Load the ABF file you are concerned about. "
   ]
  },
  {
   "cell_type": "markdown",
   "id": "872a4ea2-d004-46e3-ad3b-612c3f4cfa3d",
   "metadata": {},
   "source": [
    "There are multiple ways to view each ABF so you can see the APs while you tune the parameters for that file. The first way is to plot all the sweeps. For ABF "
   ]
  },
  {
   "cell_type": "markdown",
   "id": "3604c0c0-77c5-4ee1-9077-ef2718645f13",
   "metadata": {},
   "source": [
    "Another way is to make a video of the ABF file sweep by sweep. For files with a lot of sweeps, I find the video method much easier."
   ]
  },
  {
   "cell_type": "code",
   "execution_count": null,
   "id": "7c230e1b-145e-437b-bd52-90529f4a8326",
   "metadata": {},
   "outputs": [],
   "source": [
    "# Load the ABF file\n",
    "abf = pyabf.ABF(\"HS21/HS21_016_0000.abf\")\n",
    "\n",
    "# Initialize the plot\n",
    "fig, ax = plt.subplots()\n",
    "\n",
    "# Function to update the plot for each frame\n",
    "def update(frame):\n",
    "    ax.clear()\n",
    "    abf.setSweep(frame)\n",
    "    ax.plot(abf.sweepX, abf.sweepY)\n",
    "    ax.set_title(f\"Sweep {frame}\")\n",
    "    ax.set_ylim(-200, 100)  # Set y-axis limits\n",
    "\n",
    "# Create the animation\n",
    "ani = animation.FuncAnimation(fig, update, frames=abf.sweepCount, interval=100)\n",
    "\n",
    "# Display the animation inline in the notebook\n",
    "HTML(ani.to_jshtml())\n"
   ]
  },
  {
   "cell_type": "markdown",
   "id": "067757b3-d97e-468f-91ef-392db7359aef",
   "metadata": {},
   "source": [
    "Adjust the parameters so this file faithfully counts APs for this abf file"
   ]
  },
  {
   "cell_type": "code",
   "execution_count": null,
   "id": "6701f854-7d45-448e-939c-3c9e639a0884",
   "metadata": {},
   "outputs": [],
   "source": [
    "# Set the file path\n",
    "data = 'HS21/HS21_016_0000.abf'\n",
    "abf = pyabf.ABF(data)\n",
    "\n",
    "# Initialize an empty DataFrame to store the results\n",
    "table = pd.DataFrame(columns=['current_step', 'avg_rate'])\n",
    "\n",
    "# Check the number of sweeps in the ABF file\n",
    "num_sweeps = abf.sweepCount\n",
    "print(\"Number of sweeps:\", num_sweeps)\n",
    "\n",
    "# Loop function to analyze each voltage and current trace of the file\n",
    "for sweep in range(num_sweeps):\n",
    "    abf.setSweep(sweep)\n",
    "    time = abf.sweepX\n",
    "    voltage = abf.sweepY\n",
    "    current = abf.sweepC\n",
    "\n",
    "    currents = [] # Current value between t1 and t2 (ms) for each step\n",
    "    t1 = int(400*abf.dataPointsPerMs)\n",
    "    t2 = int(500*abf.dataPointsPerMs)\n",
    "    current_mean = np.average(abf.sweepC[t1:t2])\n",
    "\n",
    "    start, end = 0.025, 0.525\n",
    "    sfx = SpikeFeatureExtractor(start, end, filter=None, dv_cutoff=10.0, thresh_frac=0.5, max_interval=0.01, min_peak=40)\n",
    "    sfx_results = sfx.process(time, voltage, current)\n",
    "    stfx = SpikeTrainFeatureExtractor(start=start, end=end)\n",
    "    stfx_results = stfx.process(time, voltage, current, sfx_results)\n",
    "\n",
    "    # Update the table with the stfx results\n",
    "    table.loc[sweep, 'current_step'] = current_mean\n",
    "    table.loc[sweep, 'avg_rate'] = stfx_results[\"avg_rate\"] * (end - start)\n",
    "\n",
    "print(table)\n",
    "\n",
    "# Plot current_step vs avg_rate\n",
    "plt.figure(figsize=(8, 6))\n",
    "plt.scatter(table['current_step'], table['avg_rate'], marker='o')\n",
    "plt.xlabel('Current Step (pA)')\n",
    "plt.ylabel('Average Rate (Hz)')\n",
    "plt.title('Current Step vs Average Rate')\n",
    "plt.grid(True)\n",
    "plt.show()"
   ]
  },
  {
   "cell_type": "markdown",
   "id": "082c968b-aeb4-493d-ac8f-2e1d746ccef0",
   "metadata": {},
   "source": [
    "Replace the data from the column HS21_016_0000.abf in the all_avg_rate_data dataframe with the corrected data. Repeat as necessary for all columns where a mistake has been made. "
   ]
  },
  {
   "cell_type": "code",
   "execution_count": null,
   "id": "cccf0a42-6b50-4e59-9bdd-7bd544b93f2f",
   "metadata": {},
   "outputs": [],
   "source": [
    "# Assuming all_avg_rate_data is already defined and contains the columns with ABF filenames\n",
    "\n",
    "# Extract the column name\n",
    "column_name = 'HS21_016_0000.abf'\n",
    "\n",
    "# Replace the data in the column with the new data from the table DataFrame\n",
    "all_avg_rate_data[column_name] = table['avg_rate']\n",
    "\n",
    "print(all_avg_rate_data)\n"
   ]
  },
  {
   "cell_type": "code",
   "execution_count": null,
   "id": "b36f8eae-6930-471f-be5c-84ac9fcf993c",
   "metadata": {},
   "outputs": [],
   "source": [
    "# Plot current vs. average rate for each file\n",
    "for column in all_avg_rate_data.columns:\n",
    "    plt.figure(figsize=(8, 6))\n",
    "    # Generate current step values starting from -100pA increasing by 10 for each step\n",
    "    current_steps = np.arange(-100, -100 + 10 * len(all_avg_rate_data), 10)\n",
    "    plt.scatter(current_steps, all_avg_rate_data[column], label=column)\n",
    "    plt.xlabel('Current Step (pA)')\n",
    "    plt.ylabel('Number APs')\n",
    "    plt.title(f'Current vs. Action Potentials - {column}')\n",
    "    plt.grid(True)\n",
    "    plt.show()"
   ]
  },
  {
   "cell_type": "markdown",
   "id": "7516b21c-cb41-4eed-964a-cf5427dc1a48",
   "metadata": {},
   "source": [
    "Now that we have extracted all the AP number at each current step for each file we can save the CSV file"
   ]
  },
  {
   "cell_type": "code",
   "execution_count": null,
   "id": "f076e181-2193-4d85-add9-83cfa34369a4",
   "metadata": {},
   "outputs": [],
   "source": [
    "file_name = \"HS21_APs.csv\"\n",
    "all_avg_rate_data.to_csv(file_name, index=False)"
   ]
  },
  {
   "cell_type": "markdown",
   "id": "35b498a6-182f-4f36-94ab-31c60fb3fa0b",
   "metadata": {},
   "source": [
    "Remove leading '0' from each column. "
   ]
  },
  {
   "cell_type": "code",
   "execution_count": null,
   "id": "7e66f87e-03b7-4879-ab67-745080c5a10a",
   "metadata": {},
   "outputs": [],
   "source": [
    "# Function to remove leading zeros and NaN values\n",
    "def remove_leading_zeros(column):\n",
    "    # Find the first non-zero and non-NaN value index\n",
    "    first_non_zero_index = next((i for i, x in enumerate(column) if not np.isnan(x) and x != 0), None)\n",
    "    if first_non_zero_index is None:\n",
    "        return pd.Series(dtype=float)  # Return an empty series if all values are NaN or zero\n",
    "    else:\n",
    "        return column[first_non_zero_index:].reset_index(drop=True)\n",
    "\n",
    "# Apply the function to each column\n",
    "all_avg_rate_data = all_avg_rate_data.apply(remove_leading_zeros)\n",
    "\n",
    "# Display the modified DataFrame\n",
    "print(all_avg_rate_data)"
   ]
  },
  {
   "cell_type": "markdown",
   "id": "3adad604-4889-49a2-9d7e-c35957d8e88c",
   "metadata": {},
   "source": [
    "Save the new CSV file. "
   ]
  },
  {
   "cell_type": "code",
   "execution_count": null,
   "id": "236a05af-584b-4b9b-bfdc-0c909ffb04d9",
   "metadata": {},
   "outputs": [],
   "source": [
    "file_name = \"HS21_f-I.csv\"\n",
    "all_avg_rate_data.to_csv(file_name, index=False)"
   ]
  },
  {
   "cell_type": "markdown",
   "id": "a6706dc9-fad9-4d98-8409-e2b05693e383",
   "metadata": {},
   "source": [
    "Now make Current v Action Potential plot. In this case I had 2 treatment groups so I split the ABF filenames into each group, calculated the SEM of each group and plotted the f-I. "
   ]
  },
  {
   "cell_type": "code",
   "execution_count": null,
   "id": "418fba52-d596-4109-a08f-f2ca6a5ea486",
   "metadata": {},
   "outputs": [],
   "source": [
    "# Split the DataFrame into two groups based on filename\n",
    "group1_filenames = ['HS21_009_0000.abf',\n",
    "'HS21_010_0000.abf',\n",
    "'HS21_011_0000.abf',\n",
    "'HS21_012_0000.abf',\n",
    "'HS21_013_0000.abf',\n",
    "'HS21_017_0000.abf',\n",
    "'HS21_021_0000.abf',\n",
    "'HS21_022_0000.abf',\n",
    "]  # List of filenames for group 1\n",
    "group2_filenames = ['HS21_014_0000.abf',\n",
    "'HS21_015_0000.abf',\n",
    "'HS21_016_0000.abf',\n",
    "'HS21_018_0000.abf',\n",
    "'HS21_019_0000.abf',\n",
    "'HS21_024_0000.abf',\n",
    "'HS21_025_0000.abf',\n",
    "'HS21_026_0000.abf',\n",
    "]  # List of filenames for group 2\n",
    "\n",
    "group1_data = all_avg_rate_data[group1_filenames]\n",
    "group2_data = all_avg_rate_data[group2_filenames]\n",
    "\n",
    "# Compute the mean along the index axis for each group\n",
    "group1_mean_values = group1_data.mean(axis=1)\n",
    "group2_mean_values = group2_data.mean(axis=1)\n",
    "\n",
    "# Calculate the standard error of the mean (SEM) for each group\n",
    "group1_sem_values = group1_data.sem(axis=1)\n",
    "group2_sem_values = group2_data.sem(axis=1)\n",
    "\n",
    "# Generate x-axis values starting at zero and increasing by 10\n",
    "x_values = np.arange(0, len(group1_mean_values) * 10, 10)\n",
    "\n",
    "# Plot group 1\n",
    "plt.errorbar(x_values, group1_mean_values, yerr=group1_sem_values, fmt='o', capsize=5, label='300nM Paclitaxel')\n",
    "\n",
    "# Plot group 2\n",
    "plt.errorbar(x_values, group2_mean_values, yerr=group2_sem_values, fmt='o', capsize=5, label='Vehicle')\n",
    "\n",
    "plt.xlabel('Current over rheobase (pA)')\n",
    "plt.ylabel('Number APs')\n",
    "plt.title('Current v. Action Potential Numbers')\n",
    "\n",
    "# Set axis limits\n",
    "plt.xlim(0, 200)\n",
    "plt.ylim(0,10)\n",
    "\n",
    "plt.legend()\n",
    "plt.grid(True)\n",
    "plt.show()"
   ]
  },
  {
   "cell_type": "markdown",
   "id": "a3eb14a6-43ae-413c-93eb-5f4b5173d24a",
   "metadata": {},
   "source": [
    "Filter for only the multi-firing cells. "
   ]
  },
  {
   "cell_type": "code",
   "execution_count": null,
   "id": "5670dd24-3071-4f64-b7ce-af376ab8a8cb",
   "metadata": {},
   "outputs": [],
   "source": [
    "# Filter columns in group1 with values greater than 1 at some point\n",
    "group1_filtered = group1_data.loc[:, (group1_data > 1).any()]\n",
    "\n",
    "# Filter columns in group2 with values greater than 1 at some point\n",
    "group2_filtered = group2_data.loc[:, (group2_data > 1).any()]\n",
    "\n",
    "# Display the filtered DataFrames\n",
    "print(\"Group 1 (Filtered):\")\n",
    "print(group1_filtered)\n",
    "print(\"\\nGroup 2 (Filtered):\")\n",
    "print(group2_filtered)\n"
   ]
  },
  {
   "cell_type": "code",
   "execution_count": null,
   "id": "ad3cdf7a-99bc-43e6-803f-e78df20ba010",
   "metadata": {},
   "outputs": [],
   "source": [
    "file_name = \"HS21_f-I_multi.csv\"\n",
    "all_avg_rate_data.to_csv(file_name, index=False)"
   ]
  },
  {
   "cell_type": "markdown",
   "id": "cb2adadc-b827-435c-ab3f-5906173a991e",
   "metadata": {},
   "source": [
    "Make f-I plot for only the multi-firing cells"
   ]
  },
  {
   "cell_type": "code",
   "execution_count": null,
   "id": "70a781ae-024c-4adc-a85e-45b97297e0f3",
   "metadata": {},
   "outputs": [],
   "source": [
    "# Compute the mean along the index axis for each group\n",
    "group1_mean_values = group1_filtered.mean(axis=1)\n",
    "group2_mean_values = group2_filtered.mean(axis=1)\n",
    "\n",
    "# Calculate the standard error of the mean (SEM) for each group\n",
    "group1_sem_values = group1_filtered.sem(axis=1)\n",
    "group2_sem_values = group2_filtered.sem(axis=1)\n",
    "\n",
    "# Generate x-axis values starting at zero and increasing by 10\n",
    "x_values = np.arange(0, len(group1_mean_values) * 10, 10)\n",
    "\n",
    "# Plot group 1\n",
    "plt.errorbar(x_values, group1_mean_values, yerr=group1_sem_values, fmt='o', capsize=5, label='300nM Paclitaxel')\n",
    "\n",
    "# Plot group 2\n",
    "plt.errorbar(x_values, group2_mean_values, yerr=group2_sem_values, fmt='o', capsize=5, label='Vehicle')\n",
    "\n",
    "plt.xlabel('Current over rheobase (pA)')\n",
    "plt.ylabel('Number APs')\n",
    "plt.title('Current v. Action Potential Numbers - Multi-firing cells')\n",
    "\n",
    "# Set axis limits\n",
    "plt.xlim(0, 200)\n",
    "plt.ylim(0,10)\n",
    "\n",
    "plt.legend()\n",
    "plt.grid(True)\n",
    "\n",
    "plt.show()"
   ]
  }
 ],
 "metadata": {
  "kernelspec": {
   "display_name": "Python 3 (ipykernel)",
   "language": "python",
   "name": "python3"
  },
  "language_info": {
   "codemirror_mode": {
    "name": "ipython",
    "version": 3
   },
   "file_extension": ".py",
   "mimetype": "text/x-python",
   "name": "python",
   "nbconvert_exporter": "python",
   "pygments_lexer": "ipython3",
   "version": "3.12.0"
  }
 },
 "nbformat": 4,
 "nbformat_minor": 5
}
